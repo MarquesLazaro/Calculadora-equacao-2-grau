{
  "nbformat": 4,
  "nbformat_minor": 0,
  "metadata": {
    "colab": {
      "provenance": [],
      "mount_file_id": "1Hq9mVAq-zLwZihs_48fe2iuitgfMT78z",
      "authorship_tag": "ABX9TyPxdLo0jZcurh3yXXNX3ltN",
      "include_colab_link": true
    },
    "kernelspec": {
      "name": "python3",
      "display_name": "Python 3"
    },
    "language_info": {
      "name": "python"
    }
  },
  "cells": [
    {
      "cell_type": "markdown",
      "metadata": {
        "id": "view-in-github",
        "colab_type": "text"
      },
      "source": [
        "<a href=\"https://colab.research.google.com/github/MarquesLazaro/Calculadora-equacao-2-grau/blob/main/janelas_v2.ipynb\" target=\"_parent\"><img src=\"https://colab.research.google.com/assets/colab-badge.svg\" alt=\"Open In Colab\"/></a>"
      ]
    },
    {
      "cell_type": "code",
      "execution_count": null,
      "metadata": {
        "id": "rlA6wUOp-Exq"
      },
      "outputs": [],
      "source": [
        "import pandas as pd\n",
        "import numpy as np\n",
        "import tensorflow as tf\n",
        "import sklearn as skl\n",
        "from tensorflow.keras.models import Model\n",
        "import matplotlib.pyplot as plt\n",
        "from sklearn.model_selection import train_test_split\n",
        "from tensorflow.keras import layers\n",
        "import matplotlib.pyplot as plt\n",
        "from sklearn.model_selection import train_test_split"
      ]
    },
    {
      "cell_type": "code",
      "source": [
        "import os\n",
        "\n",
        "lista_csv = os.listdir('/content/drive/MyDrive/Super/Bases Daphnet')\n",
        "bases = []\n",
        "\n",
        "for csv in lista_csv:\n",
        "  with open(f'/content/drive/MyDrive/Super/Bases Daphnet/{csv}', 'r') as arq:\n",
        "    df = pd.read_csv(arq)\n",
        "    del df['time_of_sample']\n",
        "\n",
        "    bases.append(df)"
      ],
      "metadata": {
        "id": "EoeI07RzsY9V"
      },
      "execution_count": null,
      "outputs": []
    },
    {
      "cell_type": "code",
      "source": [
        "#64hz -> 64 linhas -> 1s\n",
        "hz = 64\n",
        "segundos = 2\n",
        "sobreposicao = 32\n",
        "tamanho_janela = hz * segundos"
      ],
      "metadata": {
        "id": "hUtqJhEI-htd"
      },
      "execution_count": null,
      "outputs": []
    },
    {
      "cell_type": "code",
      "source": [
        "#Politica de classificação de segmento\n",
        "def politica_baseline(janela, labels):\n",
        "  qtde_fog = sum(janela['annotation'])\n",
        "\n",
        "  if qtde_fog == 0:\n",
        "    labels.append(0)\n",
        "    return True\n",
        "  elif qtde_fog >= tamanho_janela * 0.25:\n",
        "    labels.append(1)\n",
        "    return True\n",
        "  else:\n",
        "    return False"
      ],
      "metadata": {
        "id": "c-Youw3l76ZX"
      },
      "execution_count": null,
      "outputs": []
    },
    {
      "cell_type": "code",
      "source": [
        "janelas = []\n",
        "labels = []\n",
        "\n",
        "for base in bases:\n",
        "  qtde_janelas = base.shape[0] // tamanho_janela\n",
        "  inicio = 0\n",
        "  for i in range(qtde_janelas):\n",
        "    janela = base.iloc[inicio:inicio+tamanho_janela]\n",
        "    manter_janela = politica_baseline(janela, labels)\n",
        "\n",
        "    if manter_janela:\n",
        "      del janela['annotation']\n",
        "      janelas.append(janela)\n",
        "\n",
        "    inicio += sobreposicao\n",
        "\n",
        "labels = np.array(labels)\n",
        "shape_input = janelas[0].shape[0]"
      ],
      "metadata": {
        "id": "3-draFelwob5"
      },
      "execution_count": null,
      "outputs": []
    },
    {
      "cell_type": "code",
      "source": [
        "features = []\n",
        "\n",
        "for janela in janelas:\n",
        "  features.append(janela.to_numpy())\n",
        "\n",
        "features = np.array(features)\n",
        "\n",
        "print(features.shape)\n",
        "print(labels.shape)"
      ],
      "metadata": {
        "colab": {
          "base_uri": "https://localhost:8080/"
        },
        "id": "2dHyfxFcuRg0",
        "outputId": "5bca0114-ffa1-4ae1-eea0-769e196bb1c8"
      },
      "execution_count": null,
      "outputs": [
        {
          "output_type": "stream",
          "name": "stdout",
          "text": [
            "(14420, 128, 9)\n",
            "(14420,)\n"
          ]
        }
      ]
    },
    {
      "cell_type": "code",
      "source": [
        "x_train, x_test, y_train, y_test = train_test_split(features, labels, test_size=0.2)"
      ],
      "metadata": {
        "id": "vVUT7EcLxf8L"
      },
      "execution_count": null,
      "outputs": []
    },
    {
      "cell_type": "code",
      "source": [
        "from keras.layers import Conv1D, MaxPooling1D, Flatten, Dense, BatchNormalization, Activation, Dropout"
      ],
      "metadata": {
        "id": "UqfboDEim7CZ"
      },
      "execution_count": null,
      "outputs": []
    },
    {
      "cell_type": "code",
      "source": [
        "inputs = layers.Input(shape=(shape_input, 9))\n",
        "\n",
        "x = Conv1D(filters=32, kernel_size=6, padding='same')(inputs)\n",
        "x = Activation('relu')(x)\n",
        "x = BatchNormalization()(x)\n",
        "x = MaxPooling1D(pool_size=3)(x)\n",
        "x = Dropout(0.1)(x)\n",
        "\n",
        "x = Conv1D(filters=32, kernel_size=6, padding='same')(inputs)\n",
        "x = Activation('relu')(x)\n",
        "x = BatchNormalization()(x)\n",
        "x = MaxPooling1D(pool_size=3)(x)\n",
        "x = Dropout(0.1)(x)\n",
        "\n",
        "x = Conv1D(filters=32, kernel_size=6, padding='same')(inputs)\n",
        "x = Activation('relu')(x)\n",
        "x = BatchNormalization()(x)\n",
        "x = MaxPooling1D(pool_size=3)(x)\n",
        "x = Dropout(0.1)(x)\n",
        "\n",
        "x = Flatten()(x)\n",
        "x = Dropout(0.1)(x)\n",
        "x = Dense(25, activation='relu')(x)\n",
        "x = Dropout(0.1)(x)\n",
        "\n",
        "outputs = Dense(1, activation='sigmoid')(x)\n",
        "\n",
        "model = Model(inputs=inputs, outputs=outputs)\n",
        "model.compile(optimizer='adam', loss='binary_crossentropy', metrics=['accuracy'])\n",
        "\n",
        "model.summary()"
      ],
      "metadata": {
        "colab": {
          "base_uri": "https://localhost:8080/"
        },
        "id": "qqXc703KmBLf",
        "outputId": "ce490ce0-e46a-4ec0-80a7-f58a405ab934"
      },
      "execution_count": null,
      "outputs": [
        {
          "output_type": "stream",
          "name": "stdout",
          "text": [
            "Model: \"model\"\n",
            "_________________________________________________________________\n",
            " Layer (type)                Output Shape              Param #   \n",
            "=================================================================\n",
            " input_1 (InputLayer)        [(None, 128, 9)]          0         \n",
            "                                                                 \n",
            " conv1d_2 (Conv1D)           (None, 128, 32)           1760      \n",
            "                                                                 \n",
            " activation_2 (Activation)   (None, 128, 32)           0         \n",
            "                                                                 \n",
            " batch_normalization_2 (Bat  (None, 128, 32)           128       \n",
            " chNormalization)                                                \n",
            "                                                                 \n",
            " max_pooling1d_2 (MaxPoolin  (None, 42, 32)            0         \n",
            " g1D)                                                            \n",
            "                                                                 \n",
            " dropout_2 (Dropout)         (None, 42, 32)            0         \n",
            "                                                                 \n",
            " flatten (Flatten)           (None, 1344)              0         \n",
            "                                                                 \n",
            " dropout_3 (Dropout)         (None, 1344)              0         \n",
            "                                                                 \n",
            " dense (Dense)               (None, 25)                33625     \n",
            "                                                                 \n",
            " dropout_4 (Dropout)         (None, 25)                0         \n",
            "                                                                 \n",
            " dense_1 (Dense)             (None, 1)                 26        \n",
            "                                                                 \n",
            "=================================================================\n",
            "Total params: 35539 (138.82 KB)\n",
            "Trainable params: 35475 (138.57 KB)\n",
            "Non-trainable params: 64 (256.00 Byte)\n",
            "_________________________________________________________________\n"
          ]
        }
      ]
    },
    {
      "cell_type": "code",
      "source": [
        "callback = [tf.keras.callbacks.EarlyStopping(monitor='val_loss', verbose=1)]\n",
        "\n",
        "history = model.fit(x_train,\n",
        "                    y_train,\n",
        "                    epochs=30,\n",
        "                    batch_size=32,\n",
        "                    validation_split=0.2,\n",
        "                    callbacks=callback)"
      ],
      "metadata": {
        "id": "inwmjVK1SZ9m",
        "colab": {
          "base_uri": "https://localhost:8080/"
        },
        "outputId": "390a93f3-996e-492e-b700-0438ba48cadc"
      },
      "execution_count": null,
      "outputs": [
        {
          "output_type": "stream",
          "name": "stdout",
          "text": [
            "Epoch 1/30\n",
            "289/289 [==============================] - 4s 15ms/step - loss: 0.1509 - accuracy: 0.9402 - val_loss: 0.1409 - val_accuracy: 0.9476\n",
            "Epoch 2/30\n",
            "289/289 [==============================] - 4s 13ms/step - loss: 0.1380 - accuracy: 0.9486 - val_loss: 0.1324 - val_accuracy: 0.9484\n",
            "Epoch 3/30\n",
            "289/289 [==============================] - 3s 11ms/step - loss: 0.1270 - accuracy: 0.9519 - val_loss: 0.1267 - val_accuracy: 0.9519\n",
            "Epoch 4/30\n",
            "289/289 [==============================] - 3s 11ms/step - loss: 0.1216 - accuracy: 0.9534 - val_loss: 0.1256 - val_accuracy: 0.9515\n",
            "Epoch 5/30\n",
            "289/289 [==============================] - 4s 14ms/step - loss: 0.1188 - accuracy: 0.9552 - val_loss: 0.1265 - val_accuracy: 0.9549\n",
            "Epoch 6/30\n",
            "289/289 [==============================] - 4s 14ms/step - loss: 0.1135 - accuracy: 0.9548 - val_loss: 0.1218 - val_accuracy: 0.9528\n",
            "Epoch 7/30\n",
            "289/289 [==============================] - 3s 11ms/step - loss: 0.1059 - accuracy: 0.9594 - val_loss: 0.1231 - val_accuracy: 0.9545\n",
            "Epoch 8/30\n",
            "289/289 [==============================] - 3s 11ms/step - loss: 0.1068 - accuracy: 0.9563 - val_loss: 0.1170 - val_accuracy: 0.9528\n",
            "Epoch 9/30\n",
            "289/289 [==============================] - 4s 13ms/step - loss: 0.1036 - accuracy: 0.9597 - val_loss: 0.1133 - val_accuracy: 0.9558\n",
            "Epoch 10/30\n",
            "289/289 [==============================] - 4s 15ms/step - loss: 0.1046 - accuracy: 0.9595 - val_loss: 0.1212 - val_accuracy: 0.9549\n",
            "Epoch 11/30\n",
            "289/289 [==============================] - 3s 11ms/step - loss: 0.1025 - accuracy: 0.9596 - val_loss: 0.1226 - val_accuracy: 0.9532\n",
            "Epoch 12/30\n",
            "289/289 [==============================] - 4s 13ms/step - loss: 0.0969 - accuracy: 0.9619 - val_loss: 0.1246 - val_accuracy: 0.9536\n",
            "Epoch 13/30\n",
            "289/289 [==============================] - 4s 13ms/step - loss: 0.0907 - accuracy: 0.9624 - val_loss: 0.1152 - val_accuracy: 0.9549\n",
            "Epoch 14/30\n",
            "289/289 [==============================] - 5s 17ms/step - loss: 0.0930 - accuracy: 0.9634 - val_loss: 0.1287 - val_accuracy: 0.9532\n",
            "Epoch 15/30\n",
            "289/289 [==============================] - 4s 16ms/step - loss: 0.0902 - accuracy: 0.9630 - val_loss: 0.1182 - val_accuracy: 0.9541\n",
            "Epoch 16/30\n",
            "289/289 [==============================] - 5s 17ms/step - loss: 0.0850 - accuracy: 0.9648 - val_loss: 0.1227 - val_accuracy: 0.9567\n",
            "Epoch 17/30\n",
            "289/289 [==============================] - 5s 18ms/step - loss: 0.0866 - accuracy: 0.9661 - val_loss: 0.1168 - val_accuracy: 0.9528\n",
            "Epoch 18/30\n",
            "289/289 [==============================] - 3s 11ms/step - loss: 0.0847 - accuracy: 0.9643 - val_loss: 0.1384 - val_accuracy: 0.9541\n",
            "Epoch 19/30\n",
            "289/289 [==============================] - 3s 11ms/step - loss: 0.0849 - accuracy: 0.9645 - val_loss: 0.1171 - val_accuracy: 0.9515\n",
            "Epoch 20/30\n",
            "289/289 [==============================] - 4s 13ms/step - loss: 0.0819 - accuracy: 0.9646 - val_loss: 0.1148 - val_accuracy: 0.9554\n",
            "Epoch 21/30\n",
            "289/289 [==============================] - 4s 15ms/step - loss: 0.0814 - accuracy: 0.9671 - val_loss: 0.1173 - val_accuracy: 0.9536\n",
            "Epoch 22/30\n",
            "289/289 [==============================] - 3s 11ms/step - loss: 0.0777 - accuracy: 0.9654 - val_loss: 0.1201 - val_accuracy: 0.9575\n",
            "Epoch 23/30\n",
            "289/289 [==============================] - 3s 11ms/step - loss: 0.0789 - accuracy: 0.9662 - val_loss: 0.1240 - val_accuracy: 0.9545\n",
            "Epoch 24/30\n",
            "289/289 [==============================] - 4s 13ms/step - loss: 0.0760 - accuracy: 0.9675 - val_loss: 0.1220 - val_accuracy: 0.9536\n",
            "Epoch 25/30\n",
            "289/289 [==============================] - 5s 18ms/step - loss: 0.0747 - accuracy: 0.9674 - val_loss: 0.1308 - val_accuracy: 0.9562\n",
            "Epoch 26/30\n",
            "289/289 [==============================] - 3s 10ms/step - loss: 0.0754 - accuracy: 0.9672 - val_loss: 0.1347 - val_accuracy: 0.9549\n",
            "Epoch 27/30\n",
            "289/289 [==============================] - 4s 16ms/step - loss: 0.0748 - accuracy: 0.9694 - val_loss: 0.1215 - val_accuracy: 0.9532\n",
            "Epoch 28/30\n",
            "289/289 [==============================] - 4s 13ms/step - loss: 0.0701 - accuracy: 0.9691 - val_loss: 0.1162 - val_accuracy: 0.9545\n",
            "Epoch 29/30\n",
            "289/289 [==============================] - 4s 13ms/step - loss: 0.0708 - accuracy: 0.9684 - val_loss: 0.1303 - val_accuracy: 0.9541\n",
            "Epoch 30/30\n",
            "289/289 [==============================] - 3s 11ms/step - loss: 0.0797 - accuracy: 0.9673 - val_loss: 0.1237 - val_accuracy: 0.9532\n"
          ]
        }
      ]
    },
    {
      "cell_type": "code",
      "source": [
        "loss = model.evaluate(x_test, y_test)"
      ],
      "metadata": {
        "colab": {
          "base_uri": "https://localhost:8080/"
        },
        "id": "1VAwviRu5hFn",
        "outputId": "464ddd11-e979-4685-fc95-4663986491f7"
      },
      "execution_count": null,
      "outputs": [
        {
          "output_type": "stream",
          "name": "stdout",
          "text": [
            "91/91 [==============================] - 0s 5ms/step - loss: 0.1554 - accuracy: 0.9424\n"
          ]
        }
      ]
    },
    {
      "cell_type": "code",
      "source": [
        "y_pred_prob = model.predict(x_test)\n",
        "y_pred = (y_pred_prob > 0.5).astype(int)\n",
        "y_test = (y_test > 0.5).astype(int)"
      ],
      "metadata": {
        "colab": {
          "base_uri": "https://localhost:8080/"
        },
        "id": "qjJlu_z56VVY",
        "outputId": "fb8fbf9f-3986-42c6-cee3-e0489127648d"
      },
      "execution_count": null,
      "outputs": [
        {
          "output_type": "stream",
          "name": "stdout",
          "text": [
            "91/91 [==============================] - 0s 3ms/step\n"
          ]
        }
      ]
    },
    {
      "cell_type": "code",
      "source": [
        "cm = skl.metrics.confusion_matrix(y_test, y_pred)\n",
        "cm"
      ],
      "metadata": {
        "colab": {
          "base_uri": "https://localhost:8080/"
        },
        "id": "H0FvzaMf59HK",
        "outputId": "b01fb16a-439c-47f2-da3d-a7418b1131dc"
      },
      "execution_count": null,
      "outputs": [
        {
          "output_type": "execute_result",
          "data": {
            "text/plain": [
              "array([[2478,   44],\n",
              "       [ 122,  240]])"
            ]
          },
          "metadata": {},
          "execution_count": 20
        }
      ]
    },
    {
      "cell_type": "code",
      "source": [
        "report = skl.metrics.classification_report(y_test,y_pred)\n",
        "print(report)"
      ],
      "metadata": {
        "colab": {
          "base_uri": "https://localhost:8080/"
        },
        "id": "u2_lc1NR6jim",
        "outputId": "32a94d17-5e47-4f2c-a84b-9cdfc2e3d1c0"
      },
      "execution_count": null,
      "outputs": [
        {
          "output_type": "stream",
          "name": "stdout",
          "text": [
            "              precision    recall  f1-score   support\n",
            "\n",
            "           0       0.95      0.98      0.97      2522\n",
            "           1       0.85      0.66      0.74       362\n",
            "\n",
            "    accuracy                           0.94      2884\n",
            "   macro avg       0.90      0.82      0.86      2884\n",
            "weighted avg       0.94      0.94      0.94      2884\n",
            "\n"
          ]
        }
      ]
    }
  ]
}